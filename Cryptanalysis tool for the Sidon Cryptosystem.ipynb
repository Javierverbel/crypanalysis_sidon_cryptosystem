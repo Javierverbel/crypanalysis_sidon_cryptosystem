{
 "cells": [
  {
   "cell_type": "markdown",
   "metadata": {},
   "source": [
    "The purpuse of this notebook is to provide an implementation of a polynomial-time key-recovery attack against the Sidon cryptosystem [1]. Also, several experiments are implemented to verify the polynomial-complexity of the attack. \n",
    "\n",
    "[1] Netanel Raviv, Ben Langton, and Itzhak Tamo. Multivariate public key cryptosys-tem from sidon spaces. In Juan A. Garay, editor,Public-Key Cryptography – PKC2021, pages 242–265, Cham, 2021. Springer International Publishing"
   ]
  },
  {
   "cell_type": "markdown",
   "metadata": {},
   "source": [
    "## Original Implementation of the Sidon Cryptosystem"
   ]
  },
  {
   "cell_type": "code",
   "execution_count": null,
   "metadata": {},
   "outputs": [],
   "source": [
    "def ConstructSidon(q, k, r): \n",
    "    ##Constructs a Sidon Space in Gq(rk, k) for r > 2 \n",
    "    \n",
    "    ##Define the field F_p^k and the polynomial ring over that field\n",
    "    assert(r!=2)\n",
    "    F.<z> = GF(q^k)\n",
    "    R.<a> = F[]\n",
    "    \n",
    "    ##Construct another extension field of degree r over this ring using an irreducible polynomial of degree r over F_q^k\n",
    "    irred_poly1 = R.irreducible_element(r)\n",
    "    irred_poly2 = R.irreducible_element(r)\n",
    "    F_r.<x> = F.extension(irred_poly1)[]\n",
    "    F_ = F.extension(irred_poly1)\n",
    "    ##find a root of this in F_q^rk\n",
    "    roots = irred_poly2(x).roots()\n",
    "\n",
    "    y = roots[0][0]\n",
    "    \n",
    "    ##returns a tuple containing y, the subfield F_q^k and the field F_q^rk\n",
    "    ##The Sidon space is defined as u + u^p*y for u in F \n",
    "    return y, F, F_"
   ]
  },
  {
   "cell_type": "code",
   "execution_count": null,
   "metadata": {},
   "outputs": [],
   "source": [
    "def ConstructSidon2k(q, k): \n",
    "    ##Constructs a Sidon Space in Gq(2k, k), q cannot equal 2 \n",
    "    assert(q!=2)\n",
    "    \n",
    "    ##Define the field F_q^k and the polynomial ring\n",
    "    \n",
    "    F.<z> = GF(q^k) \n",
    "    R.<a> = F[] \n",
    "    \n",
    "    p = F.characteristic()\n",
    "    ##Find and irreducible polynomial of degree 2 with the constant term not in W_q-1 \n",
    "    irred_poly = R.irreducible_element(2)\n",
    "    iterations = 0\n",
    "   \n",
    "    while irred_poly.list()[0]^((q^k - 1)/(q-1)) == 1 and iterations < 100: \n",
    "        irred_poly = R.irreducible_element(2)\n",
    "        iterations += 1\n",
    "    \n",
    "    assert(iterations != 100)\n",
    "    \n",
    "  \n",
    "    ##Construct the second extension field as a polynomial ring over the first modded out by this irreducible element\n",
    "    X  = F.extension(irred_poly)\n",
    "    F_2k.<x> = F.extension(irred_poly)[]\n",
    "    roots = irred_poly(x).roots() \n",
    "    \n",
    "    ##Return a root of the polynomial as well as info about the two fields \n",
    "    y = roots[0][0]\n",
    "    \n",
    "    return y, F, X, irred_poly.list()[1], irred_poly.list()[0]\n",
    "    \n",
    "    \n",
    "    "
   ]
  },
  {
   "cell_type": "code",
   "execution_count": null,
   "metadata": {},
   "outputs": [],
   "source": [
    "def factor(product, y, q, F, F_r): \n",
    "    ##Factoring algorithm for Sidon spaces with r > 2 \n",
    "    r = len(list(F_r.modulus())) - 1 \n",
    "    p = F.characteristic()\n",
    "    assert(r > 2)\n",
    "    \n",
    "    ##construct a basis from y \n",
    "    basis = [vector(y^n) for n in range(r)]\n",
    "    mat = matrix(basis)\n",
    "    \n",
    "    ##calculate the change of basis matrix to go from the standard basis to our new basis, and compute \n",
    "    ##the representation of the product in that basis \n",
    "    cob_mat = mat.inverse() \n",
    "    product_representation = vector(product)*cob_mat\n",
    "    \n",
    "    ##Find the roots of the polynomial we derive from product_represntation, and then compute the original u and v\n",
    "    assert(i == 0 for i in product_representation[3:])\n",
    "    product_representation = product_representation[0:3]\n",
    "    F_.<x> = F[]\n",
    "    poly = F_(list(product_representation))\n",
    "    roots = poly.roots()\n",
    "    \n",
    "    ##returns u and v up to multiplication from F_p, not the original things multiplied \n",
    "    if len(roots) == 1: \n",
    "        ans1 = (-1*1/roots[0][0]).nth_root(q - 1)\n",
    "        ans2 = (-1*1/roots[0][0]).nth_root(q - 1)\n",
    "        \n",
    "    else: \n",
    "        ans1 = (-1*1/roots[0][0]).nth_root(F.characteristic() - 1)\n",
    "        ans2 = (-1*1/roots[1][0]).nth_root(F.characteristic() - 1)\n",
    "    \n",
    "    if product/((ans1 + ans1^q*y)*(ans2 + ans2^q*y)) != 1: \n",
    "        ans1 = ans1*product/((ans1 + ans1^q*y)*(ans2 + ans2^q*y))\n",
    "    return ans1, ans2"
   ]
  },
  {
   "cell_type": "code",
   "execution_count": null,
   "metadata": {},
   "outputs": [],
   "source": [
    "def factor2(product, y,q,F, F_r, b, c): \n",
    "    ##factoring algorithm for Sidon space with r = 2 \n",
    "    p = F.characteristic()\n",
    "    k = len(F.modulus().list()) - 1\n",
    "    \n",
    "    ##construct a basis for F_r that we will use to extract usefull info\n",
    "    basis = [vector(y^n) for n in (0, 1)]\n",
    "    mat = matrix(basis)\n",
    "    cob_mat = mat.inverse() \n",
    "    product_representation = vector(product)*cob_mat\n",
    "    \n",
    "    \n",
    "    ##Figure out the linear transformation x - cx^q \n",
    "    basis_transf = []\n",
    "    identity = matrix.identity(k)\n",
    "    \n",
    "    for i in range(k): \n",
    "        transformed = vector(F(list(identity[i])) - c*F(list(identity[i]))^q)\n",
    "        basis_transf += [transformed]\n",
    "        \n",
    "    transformation = matrix(basis_transf).inverse() \n",
    "    \n",
    "    ##invert this transformation and use it to calculate uv\n",
    "    #print(vector(product_representation[0]))\n",
    "    uv = vector(product_representation[0])*transformation\n",
    "    uv = F(uv)\n",
    " \n",
    "    ##Calculate the last two terms and create a quadratic polynomial\n",
    "    F_.<s> = F[] \n",
    "    second_term = product_representation[1] + b*(uv)^q\n",
    "    third_term = uv^q\n",
    "    poly = F_([vector(uv), vector(second_term), vector(third_term)])\n",
    "    \n",
    "    ##get the roots of the polynomial and extract u and v\n",
    "    roots = poly.roots()\n",
    "    \n",
    "    ##returns u and v up to multiplication from F_q, not the original things multiplied \n",
    "    if len(roots) == 1: \n",
    "        ans1 = (-1*1/roots[0][0]).nth_root(q - 1)\n",
    "        ans2 = (-1*1/roots[0][0]).nth_root(q - 1)\n",
    "        \n",
    "    else: \n",
    "        ans1 = (-1*1/roots[0][0]).nth_root(q - 1)\n",
    "        ans2 = (-1*1/roots[1][0]).nth_root(q - 1)\n",
    "    \n",
    "    if product/((ans1 + ans1^q*y)*(ans2 + ans2^q*y)) != 1: \n",
    "        ans1 = ans1*product/((ans1 + ans1^q*y)*(ans2 + ans2^q*y))\n",
    "    return ans1, ans2\n",
    "    "
   ]
  },
  {
   "cell_type": "code",
   "execution_count": null,
   "metadata": {},
   "outputs": [],
   "source": [
    "def publicKey(y,q, F, F_r): \n",
    "    ##Generates the public key (and associated private key) using info from the given sidon space \n",
    "    p = F.characteristic()\n",
    "    k = len(F.modulus().list()) - 1\n",
    "    #print(k)\n",
    "    rk = (len(F_r.modulus().list()) - 1)*k\n",
    "    basefield = GF(q)\n",
    "    iterations = 0\n",
    "    iterations2 = 0\n",
    "    \n",
    "    ##Construct bases for the sidon space as well as F_r\n",
    "    sidonbasis = Matrix(basefield, k, lambda i,j: basefield.random_element())\n",
    "    while sidonbasis.is_invertible() == False and iterations < 100:\n",
    "        sidonbasis = Matrix(basefield, k, lambda i,j: basefield.random_element())\n",
    "        iterations += 1\n",
    "    F_r_basis = Matrix(basefield, rk, lambda i,j: basefield.random_element())\n",
    "    while F_r_basis.is_invertible() == False and iterations2 < 100: \n",
    "         F_r_basis = Matrix(basefield, rk, lambda i,j: basefield.random_element())\n",
    "         iterations2 += 1\n",
    "    \n",
    "    assert(iterations<100 and iterations2<100)\n",
    "    \n",
    "    ##Get the multiplication table from the basis of the sidon space\n",
    "    #print(sidonbasis[0])\n",
    "    v = [F(list(sidonbasis[i])) for i in range(k)]\n",
    "    origbasis = sidonbasis\n",
    "    sidonbasis = [j + j^q*y for j in v]\n",
    "    mult_table = vector(sidonbasis).column()*vector(sidonbasis).row()\n",
    "    cob_matrix = F_r_basis.inverse()\n",
    "    #print(cob_matrix)\n",
    "    vec_list = [[0 for i in range(k)] for j in range(k)]\n",
    "    \n",
    "    ##Generate the public key M(V,B)\n",
    "    for i in range(k): \n",
    "        for j in range(k):\n",
    "            element = mult_table[i][j]\n",
    "            long_representation = convertToLong(element)\n",
    "            vec_list[i][j] = list(long_representation*cob_matrix) \n",
    "    matrixlist = [0 for i in range(rk)]\n",
    "    \n",
    "    ##Return the public key \n",
    "    for i in range(rk): \n",
    "        matrixlist[i] = Matrix(basefield, k, lambda l,j: vec_list[l][j][i])\n",
    "    return matrixlist, sidonbasis, mult_table, F_r_basis, origbasis\n",
    "\n",
    "def convertToLong(element):\n",
    "    ##Converts an element from a vector over F to a vector over F_q\n",
    "    long_representation = []\n",
    "    #print(list(element))\n",
    "    for l in range(len(list(element))): \n",
    "        long_representation += list(vector(list(element)[l]))\n",
    "    long_representation = vector(long_representation)\n",
    "    long_representation\n",
    "    return long_representation\n",
    "\n",
    "def convertFromLong(element, F, F_r):\n",
    "    ##Converts an element from F_r represented as a vector over F_q to a vector over F\n",
    "    \n",
    "    k = len(F.modulus().list()) - 1\n",
    "    r = len(F_r.modulus().list()) - 1\n",
    "    final_list = []\n",
    "    \n",
    "    for i in range(r): \n",
    "        final_list += [F(list(element)[i*k:(i+1)*k])]\n",
    "    return(F_r(final_list))\n",
    "    \n",
    "    "
   ]
  },
  {
   "cell_type": "code",
   "execution_count": null,
   "metadata": {},
   "outputs": [],
   "source": [
    "def encrypt(a,b, matrixlist): \n",
    "    ##Uses the public key to send the encrypted message\n",
    "    anslist = []\n",
    "    #print(a,b,matrixlist)\n",
    "    for i in matrixlist: \n",
    "        anslist += a.row()*i*b.column()\n",
    "    return anslist \n",
    "\n",
    "\n",
    "def decrypt(anslist, y, q, F, F_r, F_r_basis, sidonbasis, origbasis, b = None, c = None): \n",
    "    ##Decrpyts the message anslist\n",
    "    ##Calculate the original product in the sidon space\n",
    "    product = (anslist[0]*convertFromLong(F_r_basis[0],F,F_r))\n",
    "    \n",
    "    for i in range(len(anslist) - 1): \n",
    "        product += anslist[i+1]*convertFromLong(F_r_basis[i+1], F, F_r)\n",
    "    r = len(F_r.modulus().list()) - 1 \n",
    "    \n",
    "    ##Factor the product\n",
    "    if r == 2: \n",
    "        u,v = factor2(product[0], y,q, F, F_r, b, c)\n",
    "    else: \n",
    "        u,v = factor(product[0], y,q, F, F_r)\n",
    "    #print(product)\n",
    "    #print((u + u^q*y)*(v + v^q*y))\n",
    "    \n",
    "    ##Represent the product over the sidon space basis\n",
    "    cob_matrix = origbasis.inverse() \n",
    "  \n",
    "    u = vector(F(str(u)))*origbasis.inverse()\n",
    "    v = vector(F(str(v)))*origbasis.inverse() \n",
    "    \n",
    "   \n",
    "    return u.column()*v.row()\n",
    "\n",
    "\n",
    "        "
   ]
  },
  {
   "cell_type": "code",
   "execution_count": null,
   "metadata": {},
   "outputs": [],
   "source": [
    "##demonstration\n",
    "q = 5\n",
    "k = 8\n",
    "#r = 4\n",
    "y, F, F_r, b, c = ConstructSidon2k(q, k)\n",
    "matrixlist, sidonbasis, mult_table, F_r_basis , origbasis = publicKey(y,q,F,F_r)"
   ]
  },
  {
   "cell_type": "code",
   "execution_count": null,
   "metadata": {},
   "outputs": [],
   "source": [
    "plaintext1 = vector(GF(q), [GF(q).random_element() for _ in range(k)])\n",
    "plaintext2 = vector(GF(q), [GF(q).random_element() for _ in range(k)])\n",
    "ciphertext = encrypt(plaintext1, plaintext2, matrixlist)\n",
    "decrypt(ciphertext, y, q, F, F_r, F_r_basis, sidonbasis, origbasis, b, c)"
   ]
  },
  {
   "cell_type": "markdown",
   "metadata": {},
   "source": [
    "# From here our functions"
   ]
  },
  {
   "cell_type": "code",
   "execution_count": null,
   "metadata": {},
   "outputs": [],
   "source": [
    "def frob(u):\n",
    "    return [u[i]**q for i in range(k)]"
   ]
  },
  {
   "cell_type": "markdown",
   "metadata": {},
   "source": [
    "# MinRank Part"
   ]
  },
  {
   "cell_type": "code",
   "execution_count": null,
   "metadata": {},
   "outputs": [],
   "source": [
    "def find_minrank_solutions(M_u, Fqn):\n",
    "    \"\"\"\n",
    "    Return the MinRank coefficients over Fqn for a given rank one matrix M_u in the span of the public matrices.\n",
    "    \"\"\"\n",
    "    k = matrixlist[0].dimensions()[0]\n",
    "    MR = PolynomialRing(Fqn, 2 * k, 'm')\n",
    "    linear_eq_to_solve_minrank = list(vector(M_u) - vector(sum([matrixlist[i] * MR.gen(i) for i in range(2 * k)])))\n",
    "    minrank_solutions = ideal(linear_eq_to_solve_minrank).variety()\n",
    "    minrank_solutions_list = []\n",
    "    for sol in minrank_solutions:\n",
    "        sol_list = 2*k*[0]\n",
    "        for x, value in sol.items():\n",
    "            sol_list[int(str(x)[1:])] = value\n",
    "        minrank_solutions_list.append(vector(sol_list))\n",
    "    return minrank_solutions_list"
   ]
  },
  {
   "cell_type": "markdown",
   "metadata": {},
   "source": [
    "## Modeling 1"
   ]
  },
  {
   "cell_type": "code",
   "execution_count": null,
   "metadata": {},
   "outputs": [],
   "source": [
    "def modeling_1(matrixlist):\n",
    "    \"\"\"\n",
    "    Return the equations of Modeling 1. It takes as input the set of public symmetric matrices matrixlist.\n",
    "    \"\"\"\n",
    "    base_field = matrixlist[0].base_ring()\n",
    "    q = base_field.characteristic()\n",
    "    k = matrixlist[0].dimensions()[0]\n",
    "    M = Matrix(Fqn, [vector(matrixlist[i]) for i in range(2*k)])\n",
    "    K = M.transpose().kernel()\n",
    "    R = PolynomialRing(Fqn, k, 'x')\n",
    "    vector_x = vector(R.gens())\n",
    "    monom1 = vector(vector_x.column() * vector_x.row())\n",
    "    Ker = K.basis_matrix()\n",
    "    mat_equa1 = Ker * monom1.column()\n",
    "    equations_modeling1 = list(set([mat_equa1[i][0] for i in range(k**2 - 2*k)])) \n",
    "    return equations_modeling1\n",
    "\n",
    "\n",
    "def solve_modeling_1(matrixlist, Fqn, variables_to_fix={0:1, 1:0}):\n",
    "    \"\"\"\n",
    "    Returns all solutions of Modeling 1\n",
    "    \"\"\"\n",
    "    k = matrixlist[0].dimensions()[0]\n",
    "    R = PolynomialRing(Fqn, k, 'x', order = \"lex\")\n",
    "    equations_modeling1 = modeling_1(matrixlist)\n",
    "    fixed_variables = []\n",
    "    for key, value in variables_to_fix.items():\n",
    "        fixed_variables.append(R.gen(key) - value)\n",
    "    equa = equations_modeling1 + fixed_variables\n",
    "    I = ideal(R, equa)\n",
    "    G = I.groebner_basis(\"magma\")\n",
    "    solutions = ideal(G).variety() \n",
    "    sol_list = k*[0]\n",
    "    solutions_list = []\n",
    "    for sol in solutions:\n",
    "        sol_list = k*[0]\n",
    "        for x, value in sol.items():\n",
    "            sol_list[int(str(x)[1])] = value\n",
    "        solutions_list.append(vector(sol_list))\n",
    "    return solutions_list"
   ]
  },
  {
   "cell_type": "code",
   "execution_count": null,
   "metadata": {},
   "outputs": [],
   "source": [
    "##demonstration\n",
    "q = 5\n",
    "k = 8\n",
    "#r = 4\n",
    "y, F, F_r, d, c = ConstructSidon2k(q, k)\n",
    "matrixlist, sidonbasis, mult_table, F_r_basis , origbasis = publicKey(y,q,F,F_r)\n",
    "Fq = GF(q) \n",
    "Fqn = Fq.extension(2 * k) \n",
    "Fqk = Fqn.subfield(k)\n",
    "solve_modeling_1(matrixlist, Fqn, variables_to_fix={0:1, 1:0})"
   ]
  },
  {
   "cell_type": "markdown",
   "metadata": {},
   "source": [
    "# Finding a rank one matrix of the form $(\\textbf{u} + \\gamma \\textbf{u}^{[1]})^{\\top}(\\textbf{u} + \\gamma \\textbf{u}^{[1]})$"
   ]
  },
  {
   "cell_type": "markdown",
   "metadata": {},
   "source": [
    "# Key recovery attack"
   ]
  },
  {
   "cell_type": "code",
   "execution_count": null,
   "metadata": {},
   "outputs": [],
   "source": [
    "def get_equivalent_key(matrixlist, Fqn):\n",
    "    Fqk = Fqn.subfield(k)  \n",
    "    #We solve twice modeling 1.\n",
    "    solutions1 = solve_modeling_1(matrixlist, Fqn, variables_to_fix={0:Fqk.random_element(), 1:Fqk.random_element()})\n",
    "    solutions2 = solve_modeling_1(matrixlist, Fqn, variables_to_fix={0:Fqk.random_element(), 1:Fqk.random_element()})\n",
    "    solutions = solutions1 + solutions2\n",
    "    a = 0\n",
    "    for i in range(2 * k):\n",
    "        u0 = solutions[i];\n",
    "        for j in range(i + 1, 2 * k):\n",
    "            v0 = solutions[j]\n",
    "            if matrix([u0, v0 , frob(u0), frob(v0)]).rank() < 4:\n",
    "                u1 = solutions[i]\n",
    "                v1 = solutions[j]\n",
    "                K = matrix([u1, v1 , frob(u1), frob(v1)]).kernel().basis_matrix()\n",
    "                important_u = K[0][0] * u1 + K[0][1] * v1\n",
    "                #important_v = vector([i**q for i in u])\n",
    "\n",
    "                RR.<a> = Fqk[]\n",
    "                ##Find and irreducible polynomial of degree 2 with the constant term not in W_q-1 \n",
    "                irred_poly = RR.irreducible_element(2)\n",
    "                iterations = 0\n",
    "\n",
    "                while irred_poly.list()[0]^((q^k - 1)/(q-1)) == 1 and iterations < 100: \n",
    "                    irred_poly = RR.irreducible_element(2)\n",
    "                    iterations += 1\n",
    "\n",
    "                assert(iterations != 100)\n",
    "\n",
    "                ##Construct the second extension field as a polynomial ring over the first modded out by this irreducible element\n",
    "                X  = Fqk.extension(irred_poly)\n",
    "                F_2k.<x> = Fqk.extension(irred_poly)[]\n",
    "                roots = irred_poly(x).roots() \n",
    "\n",
    "                ##Return a root of the polynomial as well as info about the two fields \n",
    "                y_recovered = roots[0][0]\n",
    "\n",
    "\n",
    "\n",
    "                recovered_sidonbasis = [j + j^q*y_recovered for j in important_u]\n",
    "                a = 1\n",
    "            if a:\n",
    "                break\n",
    "\n",
    "        if a:\n",
    "            break\n",
    "    origbasis_recovered = matrix([vector(Fqk(important_u[i])) for i in range(k)])\n",
    "    recovered_M = vector(recovered_sidonbasis).column() * vector(recovered_sidonbasis).row()\n",
    "   #M_u = important_u.column() * important_u.row()\n",
    "    #v = frob(important_u)\n",
    "    #M_v = vector(v).column() * vector(v).row()\n",
    "    F_r_basis_recovered = find_minrank_solutions(recovered_M, X)\n",
    "    b_recovered, c_recovered = irred_poly.list()[1], irred_poly.list()[0]\n",
    "    F_r_recovered = X\n",
    "    return y_recovered, Fqk,  F_r_recovered, F_r_basis_recovered, recovered_sidonbasis, origbasis_recovered,b_recovered, c_recovered\n",
    "    "
   ]
  },
  {
   "cell_type": "code",
   "execution_count": null,
   "metadata": {},
   "outputs": [],
   "source": [
    "def new_decrypt(y_rec, Fqk_rec, F_r_rec, F_r_basis_rec, sidonbasis_rec, origbasis_rec, b_rec, c_rec):\n",
    "    product = sum([ciphertext[i] * F_r_basis_rec[0][i] for i in range(2 * k)])\n",
    "    r = len(F_r_rec.modulus().list()) - 1 \n",
    "    ##Factor the product\n",
    "    if r == 2: \n",
    "        u,v = factor2(product[0], y_rec,q, Fqk_rec, F_r_rec, b_rec, c_rec)\n",
    "    else: \n",
    "        u,v = factor(product[0], y_rec,q, Fqk_rec, F_r_rec)\n",
    "\n",
    "    ##Represent the product over the sidon space basis\n",
    "    cob_matrix = origbasis_rec.inverse() \n",
    "\n",
    "    u = vector(Fqk_rec(str(u)))*cob_matrix\n",
    "    v = vector(Fqk_rec(str(v)))*cob_matrix\n",
    "\n",
    "\n",
    "    return v.column() * u.row()"
   ]
  },
  {
   "cell_type": "code",
   "execution_count": null,
   "metadata": {},
   "outputs": [],
   "source": []
  },
  {
   "cell_type": "markdown",
   "metadata": {},
   "source": [
    "# Testing"
   ]
  },
  {
   "cell_type": "code",
   "execution_count": null,
   "metadata": {},
   "outputs": [],
   "source": [
    "q = 5\n",
    "k = 7\n",
    "#r = 4\n",
    "y, F, F_r, b, c = ConstructSidon2k(q, k)\n",
    "matrixlist, sidonbasis, mult_table, F_r_basis , origbasis = publicKey(y,q,F,F_r)\n",
    "Fq = GF(q) \n",
    "Fqn = Fq.extension(2 * k) "
   ]
  },
  {
   "cell_type": "code",
   "execution_count": null,
   "metadata": {},
   "outputs": [],
   "source": [
    "y_rec,Fqk_rec,F_r_rec,F_r_basis_rec,sidonbasis_rec,origbasis_rec,b_rec,c_rec=get_equivalent_key(matrixlist, Fqn)"
   ]
  },
  {
   "cell_type": "code",
   "execution_count": null,
   "metadata": {},
   "outputs": [],
   "source": [
    "plaintext1 = vector(GF(q), [GF(q).random_element() for _ in range(k)])\n",
    "plaintext2 = vector(GF(q), [GF(q).random_element() for _ in range(k)])\n",
    "ciphertext = encrypt(plaintext1, plaintext2, matrixlist)\n",
    "recovered_matrix = new_decrypt(y_rec,Fqk_rec,F_r_rec,F_r_basis_rec,sidonbasis_rec,origbasis_rec,b_rec,c_rec) \n",
    "original_matrix = decrypt(ciphertext, y, q, F, F_r, F_r_basis, sidonbasis, origbasis, b, c)"
   ]
  },
  {
   "cell_type": "code",
   "execution_count": null,
   "metadata": {},
   "outputs": [],
   "source": [
    "print((recovered_matrix == original_matrix) | (recovered_matrix == original_matrix.transpose()))"
   ]
  },
  {
   "cell_type": "markdown",
   "metadata": {},
   "source": [
    "# On the Complexity of Modeling 1."
   ]
  },
  {
   "cell_type": "markdown",
   "metadata": {},
   "source": [
    "### Testing the Solving Degree."
   ]
  },
  {
   "cell_type": "code",
   "execution_count": null,
   "metadata": {},
   "outputs": [],
   "source": [
    "def gb_modeling_1(matrixlist, Fqk):\n",
    "    \"\"\"\n",
    "    Returns a Groebner basis in the grevlex order of the ideal generated by the Modeling 1 equations.\n",
    "    \"\"\"\n",
    "    equations_modeling1 = modeling_1(matrixlist)\n",
    "    k = matrixlist[0].dimensions()[0]\n",
    "    R = PolynomialRing(Fqk, k, 'x')\n",
    "    fixed_variables = [R.gen(0) - Fqk.random_element(), R.gen(1) - Fqk.random_element()]\n",
    "    equa = equations_modeling1 + fixed_variables\n",
    "    G = ideal(equa).groebner_basis(\"magma\", prot = \"sage\")\n",
    "    return G"
   ]
  },
  {
   "cell_type": "code",
   "execution_count": null,
   "metadata": {},
   "outputs": [],
   "source": [
    "q = 5\n",
    "k = 8\n",
    "#r = 4\n",
    "y, F, F_r, d, c = ConstructSidon2k(q, k)\n",
    "matrixlist, sidonbasis, mult_table, F_r_basis , origbasis = publicKey(y,q,F,F_r)\n",
    "Fq = GF(q) \n",
    "Fqn = Fq.extension(2 * k) \n",
    "Fqk = Fqn.subfield(k) \n",
    "G = gb_modeling_1(matrixlist, Fqk)"
   ]
  },
  {
   "cell_type": "markdown",
   "metadata": {},
   "source": [
    "## Cheking: Dimension of Modeling 1 equations is $k^2 - 2*k - \\binom{k}{2}$"
   ]
  },
  {
   "cell_type": "code",
   "execution_count": null,
   "metadata": {},
   "outputs": [],
   "source": [
    "for k in range(2, 14):\n",
    "    q = 7\n",
    "    y, F, F_r, d, c = ConstructSidon2k(q, k)\n",
    "    matrixlist, sidonbasis, mult_table, F_r_basis , origbasis = publicKey(y,q,F,F_r)\n",
    "    M = Matrix(F, [vector(matrixlist[i]) for i in range(2*k)])\n",
    "    K = M.transpose().kernel()\n",
    "    R = PolynomialRing(F, k, 'x')\n",
    "    var = R.gens()\n",
    "    monom = vector(vector(R, var).column() * vector(R,var).row())\n",
    "    Ker = K.basis_matrix()\n",
    "    mat_equa = Ker * monom.column()\n",
    "    equa = list(set([mat_equa[i][0] for i in range(k**2 - 2*k)])) #+ [R.gen(k-1) - F.random_element()] + [R.gen(k-2) - F.random_element()]\n",
    "    print(len(equa) -1 ==k^2 - 2*k - binomial(k,2))"
   ]
  },
  {
   "cell_type": "code",
   "execution_count": null,
   "metadata": {},
   "outputs": [],
   "source": []
  }
 ],
 "metadata": {
  "kernelspec": {
   "display_name": "SageMath 9.2",
   "language": "sage",
   "name": "sagemath"
  },
  "language_info": {
   "codemirror_mode": {
    "name": "ipython",
    "version": 3
   },
   "file_extension": ".py",
   "mimetype": "text/x-python",
   "name": "python",
   "nbconvert_exporter": "python",
   "pygments_lexer": "ipython3",
   "version": "3.8.5"
  }
 },
 "nbformat": 4,
 "nbformat_minor": 2
}
